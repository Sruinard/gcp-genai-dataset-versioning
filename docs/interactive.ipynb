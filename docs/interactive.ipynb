{
 "cells": [
  {
   "cell_type": "code",
   "execution_count": 1,
   "metadata": {},
   "outputs": [],
   "source": [
    "from datacentric import config\n",
    "from google.cloud import aiplatform\n",
    "\n",
    "cfg = config.new()\n",
    "aiplatform.init(project=cfg.project_id, location=cfg.location)"
   ]
  },
  {
   "cell_type": "code",
   "execution_count": 39,
   "metadata": {},
   "outputs": [],
   "source": [
    "DATASET_URI = \"gs://ruinard_datacentric/assets/data/*.jsonl\"\n",
    "display_name = 'vertex_metadata_managed_question_answering_dataset'\n",
    "\n",
    "dataset_artifact = aiplatform.Artifact.create(\n",
    "    schema_title=\"system.Dataset\", display_name=display_name, uri=DATASET_URI, metadata={\"custom_schema\": \"gs://my_bucket/my_schema/schema.yaml\"}\n",
    ")"
   ]
  },
  {
   "cell_type": "code",
   "execution_count": 40,
   "metadata": {},
   "outputs": [
    {
     "data": {
      "text/plain": [
       "{'name': 'projects/714561025480/locations/us-central1/metadataStores/default/artifacts/54ff5787-8922-4921-887a-615dcceeaa6e',\n",
       " 'displayName': 'vertex_metadata_managed_question_answering_dataset',\n",
       " 'uri': 'gs://ruinard_datacentric/assets/data/*.jsonl',\n",
       " 'etag': '1734526043195',\n",
       " 'createTime': '2024-12-18T12:47:23.195Z',\n",
       " 'updateTime': '2024-12-18T12:47:23.195Z',\n",
       " 'state': 'LIVE',\n",
       " 'schemaTitle': 'system.Dataset',\n",
       " 'schemaVersion': '0.0.1',\n",
       " 'metadata': {'custom_schema': 'gs://my_bucket/my_schema/schema.yaml'}}"
      ]
     },
     "execution_count": 40,
     "metadata": {},
     "output_type": "execute_result"
    }
   ],
   "source": [
    "dataset_artifact.to_dict()"
   ]
  },
  {
   "cell_type": "code",
   "execution_count": 41,
   "metadata": {},
   "outputs": [],
   "source": [
    "ds = aiplatform.Artifact.list(filter=f\"display_name={display_name}\")[0]"
   ]
  },
  {
   "cell_type": "code",
   "execution_count": 42,
   "metadata": {},
   "outputs": [
    {
     "data": {
      "text/plain": [
       "('ruinard_datacentric', 'assets/data/*.jsonl')"
      ]
     },
     "execution_count": 42,
     "metadata": {},
     "output_type": "execute_result"
    }
   ],
   "source": [
    "bucket_name, blob_path = ds.uri.split('/', 3)[2:]\n",
    "bucket_name, blob_path"
   ]
  },
  {
   "cell_type": "code",
   "execution_count": 43,
   "metadata": {},
   "outputs": [
    {
     "data": {
      "text/plain": [
       "[<Blob: ruinard_datacentric, assets/data/question_answering.jsonl, 1734525992023042>,\n",
       " <Blob: ruinard_datacentric, assets/data/questions_only.jsonl, 1734525992352562>]"
      ]
     },
     "execution_count": 43,
     "metadata": {},
     "output_type": "execute_result"
    }
   ],
   "source": []
  },
  {
   "cell_type": "code",
   "execution_count": 44,
   "metadata": {},
   "outputs": [],
   "source": [
    "import json\n",
    "from google.cloud import storage\n",
    "\n",
    "client = storage.Client()\n",
    "bucket = client.get_bucket(bucket_name)\n",
    "# get all blobs which match wildcard patterh\n",
    "blobs = list(bucket.list_blobs(match_glob=blob_path))\n",
    "data = []\n",
    "for blob in blobs:\n",
    "    jsonl_data = blob.download_as_string().decode('utf-8').split('\\n')\n",
    "    for line in jsonl_data:\n",
    "        data.append(json.loads(line))\n",
    "    \n"
   ]
  },
  {
   "cell_type": "code",
   "execution_count": 45,
   "metadata": {},
   "outputs": [
    {
     "data": {
      "text/plain": [
       "[{'question': 'What is the capital of France?', 'answer': 'Paris'},\n",
       " {'question': 'What is the largest planet in our solar system?',\n",
       "  'answer': 'Jupiter'},\n",
       " {'question': \"Who wrote 'To Kill a Mockingbird'?\", 'answer': 'Harper Lee'},\n",
       " {'question': 'What is the boiling point of water?',\n",
       "  'answer': '100 degrees Celsius'},\n",
       " {'question': 'What is the currency of Japan?', 'answer': 'Yen'},\n",
       " {'question': 'What is the capital of France?'},\n",
       " {'question': 'What is the largest planet in our solar system?'},\n",
       " {'question': \"Who wrote 'To Kill a Mockingbird'?\"},\n",
       " {'question': 'What is the boiling point of water?'},\n",
       " {'question': 'What is the currency of Japan?'}]"
      ]
     },
     "execution_count": 45,
     "metadata": {},
     "output_type": "execute_result"
    }
   ],
   "source": [
    "data"
   ]
  },
  {
   "cell_type": "code",
   "execution_count": null,
   "metadata": {},
   "outputs": [],
   "source": [
    "aiplatform.Artifact.list()"
   ]
  },
  {
   "cell_type": "code",
   "execution_count": null,
   "metadata": {},
   "outputs": [],
   "source": []
  }
 ],
 "metadata": {
  "kernelspec": {
   "display_name": "datacentric-_aGy5JZN-py3.10",
   "language": "python",
   "name": "python3"
  },
  "language_info": {
   "codemirror_mode": {
    "name": "ipython",
    "version": 3
   },
   "file_extension": ".py",
   "mimetype": "text/x-python",
   "name": "python",
   "nbconvert_exporter": "python",
   "pygments_lexer": "ipython3",
   "version": "3.10.12"
  }
 },
 "nbformat": 4,
 "nbformat_minor": 2
}
