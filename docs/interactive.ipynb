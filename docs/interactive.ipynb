{
 "cells": [
  {
   "cell_type": "code",
   "execution_count": 79,
   "metadata": {},
   "outputs": [],
   "source": [
    "from datacentric import config\n",
    "from google.cloud import aiplatform\n",
    "from google.cloud.aiplatform.metadata.schema.system import artifact_schema\n",
    "from packaging.version import Version\n",
    "\n",
    "cfg = config.new()\n",
    "aiplatform.init(project=cfg.project_id, location=cfg.location)"
   ]
  },
  {
   "cell_type": "code",
   "execution_count": 80,
   "metadata": {},
   "outputs": [
    {
     "name": "stdout",
     "output_type": "stream",
     "text": [
      "Deleting Artifact : projects/714561025480/locations/us-central1/metadataStores/default/artifacts/ea03a801-992c-4bb3-9518-ac4dcf986acf\n",
      "Artifact deleted. . Resource name: projects/714561025480/locations/us-central1/metadataStores/default/artifacts/ea03a801-992c-4bb3-9518-ac4dcf986acf\n",
      "Deleting Artifact resource: projects/714561025480/locations/us-central1/metadataStores/default/artifacts/ea03a801-992c-4bb3-9518-ac4dcf986acf\n",
      "Delete Artifact backing LRO: projects/714561025480/locations/us-central1/metadataStores/default/artifacts/ea03a801-992c-4bb3-9518-ac4dcf986acf/operations/3183547304460156928\n",
      "Artifact resource projects/714561025480/locations/us-central1/metadataStores/default/artifacts/ea03a801-992c-4bb3-9518-ac4dcf986acf deleted.\n",
      "Deleting Artifact : projects/714561025480/locations/us-central1/metadataStores/default/artifacts/5ba9f46f-54c0-4d6b-955f-1ea5affd3d56\n",
      "Artifact deleted. . Resource name: projects/714561025480/locations/us-central1/metadataStores/default/artifacts/5ba9f46f-54c0-4d6b-955f-1ea5affd3d56\n",
      "Deleting Artifact resource: projects/714561025480/locations/us-central1/metadataStores/default/artifacts/5ba9f46f-54c0-4d6b-955f-1ea5affd3d56\n",
      "Delete Artifact backing LRO: projects/714561025480/locations/us-central1/metadataStores/default/artifacts/5ba9f46f-54c0-4d6b-955f-1ea5affd3d56/operations/3015788218340605952\n",
      "Artifact resource projects/714561025480/locations/us-central1/metadataStores/default/artifacts/5ba9f46f-54c0-4d6b-955f-1ea5affd3d56 deleted.\n"
     ]
    }
   ],
   "source": [
    "artifacts = aiplatform.Artifact.list()\n",
    "for artifact in artifacts:\n",
    "    artifact.delete()"
   ]
  },
  {
   "cell_type": "code",
   "execution_count": 81,
   "metadata": {},
   "outputs": [
    {
     "name": "stdout",
     "output_type": "stream",
     "text": [
      "newly created dataset name:  question_answering\n",
      "Available datasets:  {'question_answering'}\n",
      "dataset version: 3.0.1 --- dataset status: ACTIVE\n",
      "dataset version: 3.0.1 --- dataset status: INACTIVE\n",
      "dataset version: 3.0.2 --- dataset status: ACTIVE\n"
     ]
    }
   ],
   "source": [
    "from typing import Optional, List\n",
    "import json\n",
    "from google.cloud import storage\n",
    "from packaging.version import Version\n",
    "\n",
    "class DatasetCatalogue:\n",
    "    def new(self, name: str, gcs_uri: str, version: Version):\n",
    "        existing_datasets = self.list(name=name)\n",
    "        if any(dataset.name == name and dataset.version == version for dataset in existing_datasets):\n",
    "            raise ValueError(f\"Dataset with name {name} and version {version} already exists.\")\n",
    "        return DatasetService(aiplatform.Artifact.create(\n",
    "            schema_title=\"system.Dataset\", \n",
    "            display_name=name,\n",
    "            uri=gcs_uri,\n",
    "            metadata={\n",
    "                \"version\": str(version),\n",
    "                \"status\": \"ACTIVE\"\n",
    "            }\n",
    "        ))\n",
    "\n",
    "    def get(self, name: str, active_only: bool = False, sort_by_semver: bool = False):\n",
    "        artifacts = self._list(name=name, active_only=active_only)\n",
    "        if sort_by_semver:\n",
    "            artifacts = self._sort_by_semver_version(artifacts=artifacts)\n",
    "        return DatasetService(artifacts[0])\n",
    "\n",
    "    def _list(self, name: Optional[str] = None, active_only: bool = False):\n",
    "        filter = f'display_name={name}' if name is not None else None\n",
    "        artifacts = artifact_schema.Dataset.list(filter=filter)\n",
    "        if active_only:\n",
    "            artifacts = self._filter_active(artifacts)\n",
    "        return artifacts\n",
    "\n",
    "    def list(self, name: Optional[str] = None, active_only: bool = False):\n",
    "        return [DatasetService(artifact) for artifact in self._list(name=name, active_only=active_only)]\n",
    "\n",
    "    @property\n",
    "    def available_datasets(self):\n",
    "        return set(x.name for x in self.list())\n",
    "\n",
    "    def _sort_by_semver_version(self, artifacts: List[artifact_schema.Dataset]):\n",
    "        sorted_artifacts = sorted(artifacts, key=lambda artifact: Version(artifact.metadata.get('version')), reverse=True)\n",
    "        return sorted_artifacts\n",
    "\n",
    "    def _filter_active(self, artifacts: List[artifact_schema.Dataset]):\n",
    "        return [artifact for artifact in artifacts if artifact.metadata.get(\"status\") == \"ACTIVE\"]\n",
    "\n",
    "\n",
    "\n",
    "class DatasetService:\n",
    "    def __init__(self, artifact: artifact_schema.Dataset):\n",
    "        self.artifact = artifact\n",
    "        self.client = storage.Client()\n",
    "        self.bucket_name, self.glob_pattern = artifact.uri.replace(\"gs://\", \"\").split(\"/\", 1)\n",
    "        self.bucket = self.client.get_bucket(self.bucket_name)\n",
    "\n",
    "    def _get_blobs(self):\n",
    "        return list(self.bucket.list_blobs(match_glob=self.glob_pattern))\n",
    "\n",
    "    def _load_blob_data(self, blob):\n",
    "        return [json.loads(line) for line in blob.download_as_string().decode('utf-8').split('\\n') if line]\n",
    "\n",
    "    @property\n",
    "    def name(self):\n",
    "        return self.artifact.display_name\n",
    "\n",
    "    @property\n",
    "    def version(self):\n",
    "        return Version(self.artifact.metadata.get(\"version\"))\n",
    "\n",
    "    @property\n",
    "    def status(self):\n",
    "        return self.artifact.metadata.get(\"status\")\n",
    "\n",
    "    def make_inactive(self):\n",
    "        new_metadata = self.artifact.metadata.copy()\n",
    "        new_metadata['status'] = \"INACTIVE\"\n",
    "        self.artifact.update(new_metadata)\n",
    "\n",
    "    def load(self):\n",
    "        blobs = self._get_blobs()\n",
    "        data = [item for blob in blobs for item in self._load_blob_data(blob)]\n",
    "        return data\n",
    "\n",
    "catalogue = DatasetCatalogue()\n",
    "dataset_artifact = catalogue.new(\n",
    "    name=\"question_answering\",\n",
    "    gcs_uri=\"gs://ruinard_datacentric/assets/data/*.jsonl\",\n",
    "    version=Version(\"3.0.1\")\n",
    ")\n",
    "print('newly created dataset name: ', dataset_artifact.name)\n",
    "\n",
    "print(\"Available datasets: \", catalogue.available_datasets)\n",
    "dataset = catalogue.get(name=dataset_artifact.name, active_only=True, sort_by_semver=True)\n",
    "dataset.load()\n",
    "\n",
    "print(f'dataset version: {dataset.version} --- dataset status: {dataset.status}')\n",
    "dataset.make_inactive()\n",
    "print(f'dataset version: {dataset.version} --- dataset status: {dataset.status}')\n",
    "\n",
    "# new version\n",
    "dataset = catalogue.new(\n",
    "    name=\"question_answering\",\n",
    "    gcs_uri=\"gs://ruinard_datacentric/assets/data/*.jsonl\",\n",
    "    version=Version(f\"{dataset.version.major}.{dataset.version.minor}.{dataset.version.micro + 1}\")\n",
    ")\n",
    "print(f'dataset version: {dataset.version} --- dataset status: {dataset.status}')"
   ]
  },
  {
   "cell_type": "code",
   "execution_count": 4,
   "metadata": {},
   "outputs": [],
   "source": [
    "DATASET_URI = \"gs://ruinard_datacentric/assets/data/*.jsonl\"\n",
    "display_name = 'vertex_metadata_managed_question_answering_dataset'\n",
    "\n",
    "for inactive_version in range(10):\n",
    "    dataset_artifact = aiplatform.Artifact.create(\n",
    "        schema_title=\"system.Dataset\", display_name=display_name, uri=DATASET_URI, metadata={\"custom_schema\": \"gs://my_bucket/my_schema/schema.yaml\", \"version\": f\"1.0.{inactive_version}\", \"status\": \"INACTIVE\"}\n",
    "    )\n",
    "dataset_artifact = aiplatform.Artifact.create(\n",
    "    schema_title=\"system.Dataset\", display_name=display_name, uri=DATASET_URI, metadata={\"custom_schema\": \"gs://my_bucket/my_schema/schema.yaml\", \"version\": f\"2.0.0\", \"status\": \"ACTIVE\"}\n",
    ")\n",
    "dataset = artifact_schema.Dataset(\n",
    "    display_name=display_name, uri=DATASET_URI, metadata={\"custom_schema\": \"gs://my_bucket/my_schema/schema.yaml\"}\n",
    "    ).create()"
   ]
  },
  {
   "cell_type": "code",
   "execution_count": 48,
   "metadata": {},
   "outputs": [
    {
     "data": {
      "text/plain": [
       "[<google.cloud.aiplatform.metadata.schema.system.artifact_schema.Dataset object at 0x7f93ecdf22f0> \n",
       " resource name: projects/714561025480/locations/us-central1/metadataStores/default/artifacts/49757494-9957-44a0-acc0-d962a151d07b\n",
       " uri: gs://ruinard_datacentric/assets/data/*.jsonl\n",
       " schema_title:system.Dataset,\n",
       " <google.cloud.aiplatform.metadata.schema.system.artifact_schema.Dataset object at 0x7f93ecd8bdc0> \n",
       " resource name: projects/714561025480/locations/us-central1/metadataStores/default/artifacts/416c46fd-26f3-4fed-8186-fe273c2eb930\n",
       " uri: gs://ruinard_datacentric/assets/data/*.jsonl\n",
       " schema_title:system.Dataset,\n",
       " <google.cloud.aiplatform.metadata.schema.system.artifact_schema.Dataset object at 0x7f93ec340f40> \n",
       " resource name: projects/714561025480/locations/us-central1/metadataStores/default/artifacts/756232a8-3604-4c54-ab59-4a78a1669e27\n",
       " uri: gs://ruinard_datacentric/assets/data/*.jsonl\n",
       " schema_title:system.Dataset,\n",
       " <google.cloud.aiplatform.metadata.schema.system.artifact_schema.Dataset object at 0x7f93ec341150> \n",
       " resource name: projects/714561025480/locations/us-central1/metadataStores/default/artifacts/d1516943-bda4-44f1-a794-3a3198b96853\n",
       " uri: gs://ruinard_datacentric/assets/data/*.jsonl\n",
       " schema_title:system.Dataset,\n",
       " <google.cloud.aiplatform.metadata.schema.system.artifact_schema.Dataset object at 0x7f93ec341360> \n",
       " resource name: projects/714561025480/locations/us-central1/metadataStores/default/artifacts/136e1db8-2ed7-487c-850f-71bbbb92e147\n",
       " uri: gs://ruinard_datacentric/assets/data/*.jsonl\n",
       " schema_title:system.Dataset,\n",
       " <google.cloud.aiplatform.metadata.schema.system.artifact_schema.Dataset object at 0x7f93ec341570> \n",
       " resource name: projects/714561025480/locations/us-central1/metadataStores/default/artifacts/78b12c9f-bb66-4b1f-b4a9-c4e98f192472\n",
       " uri: gs://ruinard_datacentric/assets/data/*.jsonl\n",
       " schema_title:system.Dataset,\n",
       " <google.cloud.aiplatform.metadata.schema.system.artifact_schema.Dataset object at 0x7f93ec3417e0> \n",
       " resource name: projects/714561025480/locations/us-central1/metadataStores/default/artifacts/584ff298-baf5-42ba-90cc-9d3292210879\n",
       " uri: gs://ruinard_datacentric/assets/data/*.jsonl\n",
       " schema_title:system.Dataset,\n",
       " <google.cloud.aiplatform.metadata.schema.system.artifact_schema.Dataset object at 0x7f93ec341b70> \n",
       " resource name: projects/714561025480/locations/us-central1/metadataStores/default/artifacts/912055d9-3baa-40ea-81cc-9c51e6df35db\n",
       " uri: gs://ruinard_datacentric/assets/data/*.jsonl\n",
       " schema_title:system.Dataset,\n",
       " <google.cloud.aiplatform.metadata.schema.system.artifact_schema.Dataset object at 0x7f93ec341d80> \n",
       " resource name: projects/714561025480/locations/us-central1/metadataStores/default/artifacts/1698cecd-c56e-457d-8d9d-a664fb504853\n",
       " uri: gs://ruinard_datacentric/assets/data/*.jsonl\n",
       " schema_title:system.Dataset,\n",
       " <google.cloud.aiplatform.metadata.schema.system.artifact_schema.Dataset object at 0x7f93ec341f90> \n",
       " resource name: projects/714561025480/locations/us-central1/metadataStores/default/artifacts/aba9590f-37c6-44cc-8a18-56567c8f64b6\n",
       " uri: gs://ruinard_datacentric/assets/data/*.jsonl\n",
       " schema_title:system.Dataset,\n",
       " <google.cloud.aiplatform.metadata.schema.system.artifact_schema.Dataset object at 0x7f93ec3421a0> \n",
       " resource name: projects/714561025480/locations/us-central1/metadataStores/default/artifacts/b70d5d5d-bea6-4716-9ec0-7c599bdffa69\n",
       " uri: gs://ruinard_datacentric/assets/data/*.jsonl\n",
       " schema_title:system.Dataset,\n",
       " <google.cloud.aiplatform.metadata.schema.system.artifact_schema.Dataset object at 0x7f93ec3423b0> \n",
       " resource name: projects/714561025480/locations/us-central1/metadataStores/default/artifacts/37c3bc15-009e-4812-ba17-40b39f7491e8\n",
       " uri: gs://ruinard_datacentric/assets/data/*.jsonl\n",
       " schema_title:system.Dataset,\n",
       " <google.cloud.aiplatform.metadata.schema.system.artifact_schema.Dataset object at 0x7f93ec3425c0> \n",
       " resource name: projects/714561025480/locations/us-central1/metadataStores/default/artifacts/861b7ad4-00d6-4fd2-a90c-af887afff062\n",
       " uri: gs://ruinard_datacentric/assets/data/*.jsonl\n",
       " schema_title:system.Dataset]"
      ]
     },
     "execution_count": 48,
     "metadata": {},
     "output_type": "execute_result"
    }
   ],
   "source": [
    " artifact_schema.Dataset.list()"
   ]
  },
  {
   "cell_type": "code",
   "execution_count": 47,
   "metadata": {},
   "outputs": [
    {
     "data": {
      "text/plain": [
       "[<google.cloud.aiplatform.metadata.artifact.Artifact object at 0x7f93ecd426e0> \n",
       " resource name: projects/714561025480/locations/us-central1/metadataStores/default/artifacts/49757494-9957-44a0-acc0-d962a151d07b\n",
       " uri: gs://ruinard_datacentric/assets/data/*.jsonl\n",
       " schema_title:system.Dataset,\n",
       " <google.cloud.aiplatform.metadata.artifact.Artifact object at 0x7f93ecdf05b0> \n",
       " resource name: projects/714561025480/locations/us-central1/metadataStores/default/artifacts/416c46fd-26f3-4fed-8186-fe273c2eb930\n",
       " uri: gs://ruinard_datacentric/assets/data/*.jsonl\n",
       " schema_title:system.Dataset,\n",
       " <google.cloud.aiplatform.metadata.artifact.Artifact object at 0x7f93ecdf0370> \n",
       " resource name: projects/714561025480/locations/us-central1/metadataStores/default/artifacts/756232a8-3604-4c54-ab59-4a78a1669e27\n",
       " uri: gs://ruinard_datacentric/assets/data/*.jsonl\n",
       " schema_title:system.Dataset,\n",
       " <google.cloud.aiplatform.metadata.artifact.Artifact object at 0x7f93ecdf33d0> \n",
       " resource name: projects/714561025480/locations/us-central1/metadataStores/default/artifacts/d1516943-bda4-44f1-a794-3a3198b96853\n",
       " uri: gs://ruinard_datacentric/assets/data/*.jsonl\n",
       " schema_title:system.Dataset,\n",
       " <google.cloud.aiplatform.metadata.artifact.Artifact object at 0x7f93ecdf3550> \n",
       " resource name: projects/714561025480/locations/us-central1/metadataStores/default/artifacts/136e1db8-2ed7-487c-850f-71bbbb92e147\n",
       " uri: gs://ruinard_datacentric/assets/data/*.jsonl\n",
       " schema_title:system.Dataset,\n",
       " <google.cloud.aiplatform.metadata.artifact.Artifact object at 0x7f93ecdf3910> \n",
       " resource name: projects/714561025480/locations/us-central1/metadataStores/default/artifacts/78b12c9f-bb66-4b1f-b4a9-c4e98f192472\n",
       " uri: gs://ruinard_datacentric/assets/data/*.jsonl\n",
       " schema_title:system.Dataset,\n",
       " <google.cloud.aiplatform.metadata.artifact.Artifact object at 0x7f93ecdf3a90> \n",
       " resource name: projects/714561025480/locations/us-central1/metadataStores/default/artifacts/584ff298-baf5-42ba-90cc-9d3292210879\n",
       " uri: gs://ruinard_datacentric/assets/data/*.jsonl\n",
       " schema_title:system.Dataset,\n",
       " <google.cloud.aiplatform.metadata.artifact.Artifact object at 0x7f93ecdf3ca0> \n",
       " resource name: projects/714561025480/locations/us-central1/metadataStores/default/artifacts/912055d9-3baa-40ea-81cc-9c51e6df35db\n",
       " uri: gs://ruinard_datacentric/assets/data/*.jsonl\n",
       " schema_title:system.Dataset,\n",
       " <google.cloud.aiplatform.metadata.artifact.Artifact object at 0x7f93ecdf3eb0> \n",
       " resource name: projects/714561025480/locations/us-central1/metadataStores/default/artifacts/1698cecd-c56e-457d-8d9d-a664fb504853\n",
       " uri: gs://ruinard_datacentric/assets/data/*.jsonl\n",
       " schema_title:system.Dataset,\n",
       " <google.cloud.aiplatform.metadata.artifact.Artifact object at 0x7f93ecdf3fd0> \n",
       " resource name: projects/714561025480/locations/us-central1/metadataStores/default/artifacts/aba9590f-37c6-44cc-8a18-56567c8f64b6\n",
       " uri: gs://ruinard_datacentric/assets/data/*.jsonl\n",
       " schema_title:system.Dataset,\n",
       " <google.cloud.aiplatform.metadata.artifact.Artifact object at 0x7f93ec340310> \n",
       " resource name: projects/714561025480/locations/us-central1/metadataStores/default/artifacts/b70d5d5d-bea6-4716-9ec0-7c599bdffa69\n",
       " uri: gs://ruinard_datacentric/assets/data/*.jsonl\n",
       " schema_title:system.Dataset,\n",
       " <google.cloud.aiplatform.metadata.artifact.Artifact object at 0x7f93ec340520> \n",
       " resource name: projects/714561025480/locations/us-central1/metadataStores/default/artifacts/37c3bc15-009e-4812-ba17-40b39f7491e8\n",
       " uri: gs://ruinard_datacentric/assets/data/*.jsonl\n",
       " schema_title:system.Dataset,\n",
       " <google.cloud.aiplatform.metadata.artifact.Artifact object at 0x7f93ec340730> \n",
       " resource name: projects/714561025480/locations/us-central1/metadataStores/default/artifacts/861b7ad4-00d6-4fd2-a90c-af887afff062\n",
       " uri: gs://ruinard_datacentric/assets/data/*.jsonl\n",
       " schema_title:system.Dataset]"
      ]
     },
     "execution_count": 47,
     "metadata": {},
     "output_type": "execute_result"
    }
   ],
   "source": [
    "aiplatform.Artifact.list(filter='schema_title=\"system.Dataset\"')"
   ]
  },
  {
   "cell_type": "code",
   "execution_count": 44,
   "metadata": {},
   "outputs": [
    {
     "data": {
      "text/plain": [
       "<google.cloud.aiplatform.metadata.schema.system.artifact_schema.Dataset object at 0x7f93f8219720> \n",
       "resource name: projects/714561025480/locations/us-central1/metadataStores/default/artifacts/756232a8-3604-4c54-ab59-4a78a1669e27\n",
       "uri: gs://ruinard_datacentric/assets/data/*.jsonl\n",
       "schema_title:system.Dataset"
      ]
     },
     "execution_count": 44,
     "metadata": {},
     "output_type": "execute_result"
    }
   ],
   "source": [
    "dataset.to"
   ]
  },
  {
   "cell_type": "code",
   "execution_count": 5,
   "metadata": {},
   "outputs": [],
   "source": [
    "# dataset_artifact.update(\n",
    "#     metadata={\"custom_schema\": \"gs://my_bucket/my_schema/schema.yaml\", \"version\": \"1.0.0\", \"status\": \"INACTIVE\"}\n",
    "# )"
   ]
  },
  {
   "cell_type": "code",
   "execution_count": 6,
   "metadata": {},
   "outputs": [],
   "source": [
    "# dataset_artifact.to_dict()"
   ]
  },
  {
   "cell_type": "code",
   "execution_count": 16,
   "metadata": {},
   "outputs": [
    {
     "data": {
      "text/plain": [
       "(<Version('2.0.0')>,\n",
       " <google.cloud.aiplatform.metadata.artifact.Artifact object at 0x7f93f83c3160> \n",
       " resource name: projects/714561025480/locations/us-central1/metadataStores/default/artifacts/416c46fd-26f3-4fed-8186-fe273c2eb930\n",
       " uri: gs://ruinard_datacentric/assets/data/*.jsonl\n",
       " schema_title:system.Dataset,\n",
       " {'version': '2.0.0',\n",
       "  'status': 'INACTIVE',\n",
       "  'custom_schema': 'gs://my_bucket/my_schema/schema.yaml'})"
      ]
     },
     "execution_count": 16,
     "metadata": {},
     "output_type": "execute_result"
    }
   ],
   "source": [
    "from packaging.version import Version\n",
    "filter = f'display_name={display_name}'\n",
    "artifacts = aiplatform.Artifact.list(filter=filter)\n",
    "max_version, artifact_of_interest = max(\n",
    "    ((Version(artifact.metadata.get('version')), artifact) for artifact in artifacts if artifact.metadata.get('version')),\n",
    "    default=(Version('0.0.0'), None)\n",
    ")\n",
    "\n",
    "max_version, artifact_of_interest, artifact_of_interest.metadata"
   ]
  },
  {
   "cell_type": "code",
   "execution_count": 24,
   "metadata": {},
   "outputs": [],
   "source": [
    "# update and new version\n",
    "new_metadata = artifact_of_interest.metadata.copy()\n",
    "new_metadata['status'] = \"INACTIVE\"\n",
    "artifact_of_interest.update(new_metadata)\n",
    "\n",
    "new_version = Version(f'{max_version.major}.{max_version.minor}.{max_version.micro}')\n",
    "dataset_artifact = aiplatform.Artifact.create(\n",
    "    schema_title=\"system.Dataset\", display_name=display_name, uri=DATASET_URI, metadata={\"custom_schema\": \"gs://my_bucket/my_schema/schema.yaml\", \"version\": str(new_version), \"status\": \"ACTIVE\"}\n",
    ")"
   ]
  },
  {
   "cell_type": "code",
   "execution_count": 25,
   "metadata": {},
   "outputs": [
    {
     "data": {
      "text/plain": [
       "<google.cloud.aiplatform.metadata.artifact.Artifact object at 0x7f93f827c130> \n",
       "resource name: projects/714561025480/locations/us-central1/metadataStores/default/artifacts/49757494-9957-44a0-acc0-d962a151d07b\n",
       "uri: gs://ruinard_datacentric/assets/data/*.jsonl\n",
       "schema_title:system.Dataset"
      ]
     },
     "execution_count": 25,
     "metadata": {},
     "output_type": "execute_result"
    }
   ],
   "source": [
    "dataset_artifact"
   ]
  },
  {
   "cell_type": "code",
   "execution_count": 39,
   "metadata": {},
   "outputs": [
    {
     "data": {
      "text/plain": [
       "[<google.cloud.aiplatform.metadata.artifact.Artifact object at 0x7f93f8cab2b0> \n",
       " resource name: projects/714561025480/locations/us-central1/metadataStores/default/artifacts/49757494-9957-44a0-acc0-d962a151d07b\n",
       " uri: gs://ruinard_datacentric/assets/data/*.jsonl\n",
       " schema_title:system.Dataset,\n",
       " <google.cloud.aiplatform.metadata.artifact.Artifact object at 0x7f93f8cabc70> \n",
       " resource name: projects/714561025480/locations/us-central1/metadataStores/default/artifacts/416c46fd-26f3-4fed-8186-fe273c2eb930\n",
       " uri: gs://ruinard_datacentric/assets/data/*.jsonl\n",
       " schema_title:system.Dataset,\n",
       " <google.cloud.aiplatform.metadata.artifact.Artifact object at 0x7f93f8b744f0> \n",
       " resource name: projects/714561025480/locations/us-central1/metadataStores/default/artifacts/756232a8-3604-4c54-ab59-4a78a1669e27\n",
       " uri: gs://ruinard_datacentric/assets/data/*.jsonl\n",
       " schema_title:system.Dataset,\n",
       " <google.cloud.aiplatform.metadata.artifact.Artifact object at 0x7f93f8b74700> \n",
       " resource name: projects/714561025480/locations/us-central1/metadataStores/default/artifacts/d1516943-bda4-44f1-a794-3a3198b96853\n",
       " uri: gs://ruinard_datacentric/assets/data/*.jsonl\n",
       " schema_title:system.Dataset,\n",
       " <google.cloud.aiplatform.metadata.artifact.Artifact object at 0x7f93f8b74910> \n",
       " resource name: projects/714561025480/locations/us-central1/metadataStores/default/artifacts/136e1db8-2ed7-487c-850f-71bbbb92e147\n",
       " uri: gs://ruinard_datacentric/assets/data/*.jsonl\n",
       " schema_title:system.Dataset,\n",
       " <google.cloud.aiplatform.metadata.artifact.Artifact object at 0x7f93f8b74b20> \n",
       " resource name: projects/714561025480/locations/us-central1/metadataStores/default/artifacts/78b12c9f-bb66-4b1f-b4a9-c4e98f192472\n",
       " uri: gs://ruinard_datacentric/assets/data/*.jsonl\n",
       " schema_title:system.Dataset,\n",
       " <google.cloud.aiplatform.metadata.artifact.Artifact object at 0x7f93f8b74d30> \n",
       " resource name: projects/714561025480/locations/us-central1/metadataStores/default/artifacts/584ff298-baf5-42ba-90cc-9d3292210879\n",
       " uri: gs://ruinard_datacentric/assets/data/*.jsonl\n",
       " schema_title:system.Dataset,\n",
       " <google.cloud.aiplatform.metadata.artifact.Artifact object at 0x7f93f8b74f40> \n",
       " resource name: projects/714561025480/locations/us-central1/metadataStores/default/artifacts/912055d9-3baa-40ea-81cc-9c51e6df35db\n",
       " uri: gs://ruinard_datacentric/assets/data/*.jsonl\n",
       " schema_title:system.Dataset,\n",
       " <google.cloud.aiplatform.metadata.artifact.Artifact object at 0x7f93f8b75150> \n",
       " resource name: projects/714561025480/locations/us-central1/metadataStores/default/artifacts/1698cecd-c56e-457d-8d9d-a664fb504853\n",
       " uri: gs://ruinard_datacentric/assets/data/*.jsonl\n",
       " schema_title:system.Dataset,\n",
       " <google.cloud.aiplatform.metadata.artifact.Artifact object at 0x7f93f8b75360> \n",
       " resource name: projects/714561025480/locations/us-central1/metadataStores/default/artifacts/aba9590f-37c6-44cc-8a18-56567c8f64b6\n",
       " uri: gs://ruinard_datacentric/assets/data/*.jsonl\n",
       " schema_title:system.Dataset,\n",
       " <google.cloud.aiplatform.metadata.artifact.Artifact object at 0x7f93f8b75570> \n",
       " resource name: projects/714561025480/locations/us-central1/metadataStores/default/artifacts/b70d5d5d-bea6-4716-9ec0-7c599bdffa69\n",
       " uri: gs://ruinard_datacentric/assets/data/*.jsonl\n",
       " schema_title:system.Dataset,\n",
       " <google.cloud.aiplatform.metadata.artifact.Artifact object at 0x7f93f8b75780> \n",
       " resource name: projects/714561025480/locations/us-central1/metadataStores/default/artifacts/37c3bc15-009e-4812-ba17-40b39f7491e8\n",
       " uri: gs://ruinard_datacentric/assets/data/*.jsonl\n",
       " schema_title:system.Dataset,\n",
       " <google.cloud.aiplatform.metadata.artifact.Artifact object at 0x7f93f8b75990> \n",
       " resource name: projects/714561025480/locations/us-central1/metadataStores/default/artifacts/861b7ad4-00d6-4fd2-a90c-af887afff062\n",
       " uri: gs://ruinard_datacentric/assets/data/*.jsonl\n",
       " schema_title:system.Dataset]"
      ]
     },
     "execution_count": 39,
     "metadata": {},
     "output_type": "execute_result"
    }
   ],
   "source": [
    "aiplatform.Artifact.list()"
   ]
  },
  {
   "cell_type": "code",
   "execution_count": 49,
   "metadata": {},
   "outputs": [],
   "source": [
    "datasets = aiplatform.Artifact.list(filter='schema_title=\"system.Dataset\"')\n"
   ]
  },
  {
   "cell_type": "code",
   "execution_count": 52,
   "metadata": {},
   "outputs": [
    {
     "data": {
      "text/plain": [
       "'vertex_metadata_managed_question_answering_dataset'"
      ]
     },
     "execution_count": 52,
     "metadata": {},
     "output_type": "execute_result"
    }
   ],
   "source": []
  },
  {
   "cell_type": "code",
   "execution_count": 74,
   "metadata": {},
   "outputs": [
    {
     "ename": "ValueError",
     "evalue": "Dataset with name question_answering and version 3.0.1 already exists.",
     "output_type": "error",
     "traceback": [
      "\u001b[0;31m---------------------------------------------------------------------------\u001b[0m",
      "\u001b[0;31mValueError\u001b[0m                                Traceback (most recent call last)",
      "Cell \u001b[0;32mIn[74], line 82\u001b[0m\n\u001b[1;32m     79\u001b[0m         \u001b[38;5;28;01mreturn\u001b[39;00m data\n\u001b[1;32m     81\u001b[0m catalogue \u001b[38;5;241m=\u001b[39m DatasetCatalogue()\n\u001b[0;32m---> 82\u001b[0m dataset_artifact \u001b[38;5;241m=\u001b[39m \u001b[43mcatalogue\u001b[49m\u001b[38;5;241;43m.\u001b[39;49m\u001b[43mnew\u001b[49m\u001b[43m(\u001b[49m\n\u001b[1;32m     83\u001b[0m \u001b[43m    \u001b[49m\u001b[43mname\u001b[49m\u001b[38;5;241;43m=\u001b[39;49m\u001b[38;5;124;43m\"\u001b[39;49m\u001b[38;5;124;43mquestion_answering\u001b[39;49m\u001b[38;5;124;43m\"\u001b[39;49m\u001b[43m,\u001b[49m\n\u001b[1;32m     84\u001b[0m \u001b[43m    \u001b[49m\u001b[43mgcs_uri\u001b[49m\u001b[38;5;241;43m=\u001b[39;49m\u001b[38;5;124;43m\"\u001b[39;49m\u001b[38;5;124;43mgs://ruinard_datacentric/assets/data/*.jsonl\u001b[39;49m\u001b[38;5;124;43m\"\u001b[39;49m\u001b[43m,\u001b[49m\n\u001b[1;32m     85\u001b[0m \u001b[43m    \u001b[49m\u001b[43mversion\u001b[49m\u001b[38;5;241;43m=\u001b[39;49m\u001b[43mVersion\u001b[49m\u001b[43m(\u001b[49m\u001b[38;5;124;43m\"\u001b[39;49m\u001b[38;5;124;43m3.0.1\u001b[39;49m\u001b[38;5;124;43m\"\u001b[39;49m\u001b[43m)\u001b[49m\n\u001b[1;32m     86\u001b[0m \u001b[43m)\u001b[49m\n\u001b[1;32m     87\u001b[0m \u001b[38;5;28mprint\u001b[39m(\u001b[38;5;124m'\u001b[39m\u001b[38;5;124mnewly created dataset name: \u001b[39m\u001b[38;5;124m'\u001b[39m, dataset_artifact\u001b[38;5;241m.\u001b[39mname)\n\u001b[1;32m     89\u001b[0m \u001b[38;5;28mprint\u001b[39m(\u001b[38;5;124m\"\u001b[39m\u001b[38;5;124mAvailable datasets: \u001b[39m\u001b[38;5;124m\"\u001b[39m, catalogue\u001b[38;5;241m.\u001b[39mavailable_datasets)\n",
      "Cell \u001b[0;32mIn[74], line 10\u001b[0m, in \u001b[0;36mDatasetCatalogue.new\u001b[0;34m(self, name, gcs_uri, version)\u001b[0m\n\u001b[1;32m      8\u001b[0m existing_datasets \u001b[38;5;241m=\u001b[39m \u001b[38;5;28mself\u001b[39m\u001b[38;5;241m.\u001b[39mlist(name\u001b[38;5;241m=\u001b[39mname)\n\u001b[1;32m      9\u001b[0m \u001b[38;5;28;01mif\u001b[39;00m \u001b[38;5;28many\u001b[39m(dataset\u001b[38;5;241m.\u001b[39mname \u001b[38;5;241m==\u001b[39m name \u001b[38;5;129;01mand\u001b[39;00m dataset\u001b[38;5;241m.\u001b[39mversion \u001b[38;5;241m==\u001b[39m version \u001b[38;5;28;01mfor\u001b[39;00m dataset \u001b[38;5;129;01min\u001b[39;00m existing_datasets):\n\u001b[0;32m---> 10\u001b[0m     \u001b[38;5;28;01mraise\u001b[39;00m \u001b[38;5;167;01mValueError\u001b[39;00m(\u001b[38;5;124mf\u001b[39m\u001b[38;5;124m\"\u001b[39m\u001b[38;5;124mDataset with name \u001b[39m\u001b[38;5;132;01m{\u001b[39;00mname\u001b[38;5;132;01m}\u001b[39;00m\u001b[38;5;124m and version \u001b[39m\u001b[38;5;132;01m{\u001b[39;00mversion\u001b[38;5;132;01m}\u001b[39;00m\u001b[38;5;124m already exists.\u001b[39m\u001b[38;5;124m\"\u001b[39m)\n\u001b[1;32m     11\u001b[0m \u001b[38;5;28;01mreturn\u001b[39;00m DatasetService(aiplatform\u001b[38;5;241m.\u001b[39mArtifact\u001b[38;5;241m.\u001b[39mcreate(\n\u001b[1;32m     12\u001b[0m     schema_title\u001b[38;5;241m=\u001b[39m\u001b[38;5;124m\"\u001b[39m\u001b[38;5;124msystem.Dataset\u001b[39m\u001b[38;5;124m\"\u001b[39m, \n\u001b[1;32m     13\u001b[0m     display_name\u001b[38;5;241m=\u001b[39mname,\n\u001b[0;32m   (...)\u001b[0m\n\u001b[1;32m     18\u001b[0m     }\n\u001b[1;32m     19\u001b[0m ))\n",
      "\u001b[0;31mValueError\u001b[0m: Dataset with name question_answering and version 3.0.1 already exists."
     ]
    }
   ],
   "source": []
  },
  {
   "cell_type": "code",
   "execution_count": null,
   "metadata": {},
   "outputs": [],
   "source": []
  },
  {
   "cell_type": "code",
   "execution_count": null,
   "metadata": {},
   "outputs": [],
   "source": []
  },
  {
   "cell_type": "code",
   "execution_count": 100,
   "metadata": {},
   "outputs": [
    {
     "data": {
      "text/plain": [
       "{'custom_schema': 'gs://my_bucket/my_schema/schema.yaml'}"
      ]
     },
     "execution_count": 100,
     "metadata": {},
     "output_type": "execute_result"
    }
   ],
   "source": [
    "artifact.metadata"
   ]
  },
  {
   "cell_type": "code",
   "execution_count": null,
   "metadata": {},
   "outputs": [],
   "source": [
    "dataset = artifact_schema.Dataset(\n",
    "    display_name=display_name, uri=DATASET_URI, metadata={\"custom_schema\": \"gs://my_bucket/my_schema/schema.yaml\"}\n",
    "    ).create()"
   ]
  },
  {
   "cell_type": "code",
   "execution_count": null,
   "metadata": {},
   "outputs": [],
   "source": [
    "dataset_artifact = aiplatform.Artifact.create(\n",
    "    schema_title=\"system.Dataset\", display_name=display_name, uri=DATASET_URI, metadata={\"custom_schema\": \"gs://my_bucket/my_schema/schema.yaml\", \"version\": \"1.0.0\", \"status\": \"LIVE\"}\n",
    ")"
   ]
  },
  {
   "cell_type": "code",
   "execution_count": 62,
   "metadata": {},
   "outputs": [
    {
     "data": {
      "text/plain": [
       "<enum 'State'>"
      ]
     },
     "execution_count": 62,
     "metadata": {},
     "output_type": "execute_result"
    }
   ],
   "source": [
    "artifact_schema.gca_artifact.Artifact.State"
   ]
  },
  {
   "cell_type": "code",
   "execution_count": 68,
   "metadata": {},
   "outputs": [
    {
     "ename": "AttributeError",
     "evalue": "can't set attribute 'uri'",
     "output_type": "error",
     "traceback": [
      "\u001b[0;31m---------------------------------------------------------------------------\u001b[0m",
      "\u001b[0;31mAttributeError\u001b[0m                            Traceback (most recent call last)",
      "Cell \u001b[0;32mIn[68], line 2\u001b[0m\n\u001b[1;32m      1\u001b[0m updated_uri \u001b[38;5;241m=\u001b[39m \u001b[38;5;124m\"\u001b[39m\u001b[38;5;124mgs://ruinard_datacentric/assets/data/some_new_uri/*.jsonl\u001b[39m\u001b[38;5;124m\"\u001b[39m\n\u001b[0;32m----> 2\u001b[0m \u001b[43mdataset\u001b[49m\u001b[38;5;241;43m.\u001b[39;49m\u001b[43muri\u001b[49m \u001b[38;5;241m=\u001b[39m updated_uri\n\u001b[1;32m      3\u001b[0m dataset\u001b[38;5;241m.\u001b[39msync_resource()\n",
      "\u001b[0;31mAttributeError\u001b[0m: can't set attribute 'uri'"
     ]
    }
   ],
   "source": [
    "dataset = artifact_schema.Dataset(\n",
    "    display_name=display_name, uri=DATASET_URI, metadata={\"custom_schema\": \"gs://my_bucket/my_schema/schema.yaml\"}\n",
    "    ).create()\n",
    "updated_uri = \"gs://ruinard_datacentric/assets/data/some_new_uri/*.jsonl\"\n",
    "dataset.uri = updated_uri\n",
    "dataset.sync_resource()"
   ]
  },
  {
   "cell_type": "code",
   "execution_count": 67,
   "metadata": {},
   "outputs": [
    {
     "data": {
      "text/plain": [
       "'gs://ruinard_datacentric/assets/data/*.jsonl'"
      ]
     },
     "execution_count": 67,
     "metadata": {},
     "output_type": "execute_result"
    }
   ],
   "source": [
    "dataset.uri"
   ]
  },
  {
   "cell_type": "code",
   "execution_count": 48,
   "metadata": {},
   "outputs": [],
   "source": []
  },
  {
   "cell_type": "code",
   "execution_count": 52,
   "metadata": {},
   "outputs": [
    {
     "data": {
      "text/plain": [
       "'https://console.cloud.google.com/vertex-ai/locations/us-central1/metadata-stores/default/artifacts/958bb996-beab-4c73-a3d2-ff8d90765e2c?project=llmops-data-engine'"
      ]
     },
     "execution_count": 52,
     "metadata": {},
     "output_type": "execute_result"
    }
   ],
   "source": [
    "dataset.lineage_console_uri"
   ]
  },
  {
   "cell_type": "code",
   "execution_count": 45,
   "metadata": {},
   "outputs": [
    {
     "data": {
      "text/plain": [
       "{'name': 'projects/714561025480/locations/us-central1/metadataStores/default/artifacts/7a267116-5221-4405-b159-e49c5ba1a8db',\n",
       " 'displayName': 'vertex_metadata_managed_question_answering_dataset',\n",
       " 'uri': 'gs://ruinard_datacentric/assets/data/*.jsonl',\n",
       " 'etag': '1734598186000',\n",
       " 'createTime': '2024-12-19T08:49:46Z',\n",
       " 'updateTime': '2024-12-19T08:49:46Z',\n",
       " 'state': 'LIVE',\n",
       " 'schemaTitle': 'system.Dataset',\n",
       " 'schemaVersion': '0.0.1',\n",
       " 'metadata': {'custom_schema': 'gs://my_bucket/my_schema/schema.yaml'}}"
      ]
     },
     "execution_count": 45,
     "metadata": {},
     "output_type": "execute_result"
    }
   ],
   "source": [
    "dataset_artifact.to_dict()"
   ]
  },
  {
   "cell_type": "code",
   "execution_count": 37,
   "metadata": {},
   "outputs": [
    {
     "data": {
      "text/plain": [
       "{'name': 'projects/714561025480/locations/us-central1/metadataStores/default/artifacts/c186113d-2ea0-4e31-9ea3-28bb55063412',\n",
       " 'displayName': 'vertex_metadata_managed_question_answering_dataset',\n",
       " 'uri': 'gs://ruinard_datacentric/assets/data/*.jsonl',\n",
       " 'etag': '1734598053726',\n",
       " 'createTime': '2024-12-19T08:47:33.726Z',\n",
       " 'updateTime': '2024-12-19T08:47:33.726Z',\n",
       " 'state': 'LIVE',\n",
       " 'schemaTitle': 'google.VertexDataset',\n",
       " 'schemaVersion': '0.0.1',\n",
       " 'metadata': {'custom_schema': 'gs://my_bucket/my_schema/schema.yaml'}}"
      ]
     },
     "execution_count": 37,
     "metadata": {},
     "output_type": "execute_result"
    }
   ],
   "source": [
    "dataset_artifact = aiplatform.Artifact('projects/714561025480/locations/us-central1/metadataStores/default/artifacts/c186113d-2ea0-4e31-9ea3-28bb55063412')\n",
    "dataset_artifact.to_dict()"
   ]
  },
  {
   "cell_type": "code",
   "execution_count": 38,
   "metadata": {},
   "outputs": [],
   "source": [
    "from google.cloud.aiplatform.metadata.schema.system import artifact_schema"
   ]
  },
  {
   "cell_type": "code",
   "execution_count": 41,
   "metadata": {},
   "outputs": [
    {
     "data": {
      "text/plain": [
       "<google.cloud.aiplatform.metadata.schema.system.artifact_schema.Dataset object at 0x7f7c111c2ce0>\n",
       "schema_title: system.Dataset"
      ]
     },
     "execution_count": 41,
     "metadata": {},
     "output_type": "execute_result"
    }
   ],
   "source": [
    "ds = artifact_schema.Dataset(artifact_id='projects/714561025480/locations/us-central1/metadataStores/default/artifacts/c186113d-2ea0-4e31-9ea3-28bb55063412')\n",
    "\n",
    "ds\n"
   ]
  },
  {
   "cell_type": "code",
   "execution_count": 30,
   "metadata": {},
   "outputs": [
    {
     "data": {
      "text/plain": [
       "<bound method _Resource.update of <google.cloud.aiplatform.metadata.artifact.Artifact object at 0x7f7c111c24d0> \n",
       "resource name: projects/714561025480/locations/us-central1/metadataStores/default/artifacts/54ff5787-8922-4921-887a-615dcceeaa6e\n",
       "uri: gs://ruinard_datacentric/assets/data/*.jsonl\n",
       "schema_title:system.Dataset>"
      ]
     },
     "execution_count": 30,
     "metadata": {},
     "output_type": "execute_result"
    }
   ],
   "source": [
    "dataset_artifact."
   ]
  },
  {
   "cell_type": "code",
   "execution_count": 26,
   "metadata": {},
   "outputs": [
    {
     "ename": "SyntaxError",
     "evalue": "invalid syntax (1233047620.py, line 1)",
     "output_type": "error",
     "traceback": [
      "\u001b[0;36m  Cell \u001b[0;32mIn[26], line 1\u001b[0;36m\u001b[0m\n\u001b[0;31m    ds.import\u001b[0m\n\u001b[0m       ^\u001b[0m\n\u001b[0;31mSyntaxError\u001b[0m\u001b[0;31m:\u001b[0m invalid syntax\n"
     ]
    }
   ],
   "source": [
    "ds"
   ]
  },
  {
   "cell_type": "code",
   "execution_count": 41,
   "metadata": {},
   "outputs": [],
   "source": [
    "ds = aiplatform.Artifact.list(filter=f\"display_name={display_name}\")[0]"
   ]
  },
  {
   "cell_type": "code",
   "execution_count": 42,
   "metadata": {},
   "outputs": [
    {
     "data": {
      "text/plain": [
       "('ruinard_datacentric', 'assets/data/*.jsonl')"
      ]
     },
     "execution_count": 42,
     "metadata": {},
     "output_type": "execute_result"
    }
   ],
   "source": [
    "bucket_name, blob_path = ds.uri.split('/', 3)[2:]\n",
    "bucket_name, blob_path"
   ]
  },
  {
   "cell_type": "code",
   "execution_count": 33,
   "metadata": {},
   "outputs": [
    {
     "name": "stdout",
     "output_type": "stream",
     "text": [
      "Deleting TabularDataset : projects/714561025480/locations/us-central1/datasets/8411576763544502272\n",
      "TabularDataset deleted. . Resource name: projects/714561025480/locations/us-central1/datasets/8411576763544502272\n",
      "Deleting TabularDataset resource: projects/714561025480/locations/us-central1/datasets/8411576763544502272\n",
      "Delete TabularDataset backing LRO: projects/714561025480/locations/us-central1/operations/5081005306838777856\n",
      "TabularDataset resource projects/714561025480/locations/us-central1/datasets/8411576763544502272 deleted.\n",
      "Deleting TabularDataset : projects/714561025480/locations/us-central1/datasets/2646969240510267392\n",
      "TabularDataset deleted. . Resource name: projects/714561025480/locations/us-central1/datasets/2646969240510267392\n",
      "Deleting TabularDataset resource: projects/714561025480/locations/us-central1/datasets/2646969240510267392\n",
      "Delete TabularDataset backing LRO: projects/714561025480/locations/us-central1/operations/7649605206811869184\n",
      "TabularDataset resource projects/714561025480/locations/us-central1/datasets/2646969240510267392 deleted.\n",
      "Deleting TabularDataset : projects/714561025480/locations/us-central1/datasets/6439000126756225024\n",
      "TabularDataset deleted. . Resource name: projects/714561025480/locations/us-central1/datasets/6439000126756225024\n",
      "Deleting TabularDataset resource: projects/714561025480/locations/us-central1/datasets/6439000126756225024\n",
      "Delete TabularDataset backing LRO: projects/714561025480/locations/us-central1/operations/3974245698412478464\n",
      "TabularDataset resource projects/714561025480/locations/us-central1/datasets/6439000126756225024 deleted.\n",
      "Deleting TabularDataset : projects/714561025480/locations/us-central1/datasets/8344022769133944832\n",
      "TabularDataset deleted. . Resource name: projects/714561025480/locations/us-central1/datasets/8344022769133944832\n",
      "Deleting TabularDataset resource: projects/714561025480/locations/us-central1/datasets/8344022769133944832\n",
      "Delete TabularDataset backing LRO: projects/714561025480/locations/us-central1/operations/1170191980420923392\n",
      "TabularDataset resource projects/714561025480/locations/us-central1/datasets/8344022769133944832 deleted.\n",
      "Deleting TabularDataset : projects/714561025480/locations/us-central1/datasets/2804595227468234752\n",
      "TabularDataset deleted. . Resource name: projects/714561025480/locations/us-central1/datasets/2804595227468234752\n",
      "Deleting TabularDataset resource: projects/714561025480/locations/us-central1/datasets/2804595227468234752\n",
      "Delete TabularDataset backing LRO: projects/714561025480/locations/us-central1/operations/5305059388300460032\n",
      "TabularDataset resource projects/714561025480/locations/us-central1/datasets/2804595227468234752 deleted.\n",
      "Deleting TabularDataset : projects/714561025480/locations/us-central1/datasets/7983453323967594496\n",
      "TabularDataset deleted. . Resource name: projects/714561025480/locations/us-central1/datasets/7983453323967594496\n",
      "Deleting TabularDataset resource: projects/714561025480/locations/us-central1/datasets/7983453323967594496\n",
      "Delete TabularDataset backing LRO: projects/714561025480/locations/us-central1/operations/5781877998848311296\n",
      "TabularDataset resource projects/714561025480/locations/us-central1/datasets/7983453323967594496 deleted.\n",
      "Deleting TabularDataset : projects/714561025480/locations/us-central1/datasets/1462241063535116288\n",
      "TabularDataset deleted. . Resource name: projects/714561025480/locations/us-central1/datasets/1462241063535116288\n",
      "Deleting TabularDataset resource: projects/714561025480/locations/us-central1/datasets/1462241063535116288\n",
      "Delete TabularDataset backing LRO: projects/714561025480/locations/us-central1/operations/8791971399792066560\n",
      "TabularDataset resource projects/714561025480/locations/us-central1/datasets/1462241063535116288 deleted.\n",
      "Deleting TabularDataset : projects/714561025480/locations/us-central1/datasets/2189572403355451392\n",
      "TabularDataset deleted. . Resource name: projects/714561025480/locations/us-central1/datasets/2189572403355451392\n",
      "Deleting TabularDataset resource: projects/714561025480/locations/us-central1/datasets/2189572403355451392\n",
      "Delete TabularDataset backing LRO: projects/714561025480/locations/us-central1/operations/4547891700948795392\n",
      "TabularDataset resource projects/714561025480/locations/us-central1/datasets/2189572403355451392 deleted.\n",
      "Deleting TabularDataset : projects/714561025480/locations/us-central1/datasets/6422956053083717632\n",
      "TabularDataset deleted. . Resource name: projects/714561025480/locations/us-central1/datasets/6422956053083717632\n",
      "Deleting TabularDataset resource: projects/714561025480/locations/us-central1/datasets/6422956053083717632\n",
      "Delete TabularDataset backing LRO: projects/714561025480/locations/us-central1/operations/2775162297625083904\n",
      "TabularDataset resource projects/714561025480/locations/us-central1/datasets/6422956053083717632 deleted.\n",
      "Deleting TabularDataset : projects/714561025480/locations/us-central1/datasets/4626019801762889728\n",
      "TabularDataset deleted. . Resource name: projects/714561025480/locations/us-central1/datasets/4626019801762889728\n",
      "Deleting TabularDataset resource: projects/714561025480/locations/us-central1/datasets/4626019801762889728\n",
      "Delete TabularDataset backing LRO: projects/714561025480/locations/us-central1/operations/7386848316052471808\n",
      "TabularDataset resource projects/714561025480/locations/us-central1/datasets/4626019801762889728 deleted.\n"
     ]
    }
   ],
   "source": [
    "datasets = aiplatform.TabularDataset.list()\n",
    "for ds in datasets:\n",
    "    ds.delete()"
   ]
  },
  {
   "cell_type": "code",
   "execution_count": 44,
   "metadata": {},
   "outputs": [],
   "source": []
  },
  {
   "cell_type": "code",
   "execution_count": 45,
   "metadata": {},
   "outputs": [
    {
     "data": {
      "text/plain": [
       "[{'question': 'What is the capital of France?', 'answer': 'Paris'},\n",
       " {'question': 'What is the largest planet in our solar system?',\n",
       "  'answer': 'Jupiter'},\n",
       " {'question': \"Who wrote 'To Kill a Mockingbird'?\", 'answer': 'Harper Lee'},\n",
       " {'question': 'What is the boiling point of water?',\n",
       "  'answer': '100 degrees Celsius'},\n",
       " {'question': 'What is the currency of Japan?', 'answer': 'Yen'},\n",
       " {'question': 'What is the capital of France?'},\n",
       " {'question': 'What is the largest planet in our solar system?'},\n",
       " {'question': \"Who wrote 'To Kill a Mockingbird'?\"},\n",
       " {'question': 'What is the boiling point of water?'},\n",
       " {'question': 'What is the currency of Japan?'}]"
      ]
     },
     "execution_count": 45,
     "metadata": {},
     "output_type": "execute_result"
    }
   ],
   "source": [
    "data"
   ]
  },
  {
   "cell_type": "code",
   "execution_count": null,
   "metadata": {},
   "outputs": [],
   "source": [
    "aiplatform.Artifact.list()"
   ]
  },
  {
   "cell_type": "code",
   "execution_count": null,
   "metadata": {},
   "outputs": [],
   "source": []
  }
 ],
 "metadata": {
  "kernelspec": {
   "display_name": "datacentric-_aGy5JZN-py3.10",
   "language": "python",
   "name": "python3"
  },
  "language_info": {
   "codemirror_mode": {
    "name": "ipython",
    "version": 3
   },
   "file_extension": ".py",
   "mimetype": "text/x-python",
   "name": "python",
   "nbconvert_exporter": "python",
   "pygments_lexer": "ipython3",
   "version": "3.10.12"
  }
 },
 "nbformat": 4,
 "nbformat_minor": 2
}
